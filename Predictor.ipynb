{
 "cells": [
  {
   "cell_type": "code",
   "execution_count": 1,
   "id": "a66adc36",
   "metadata": {},
   "outputs": [],
   "source": [
    "import tensorflow as tf\n",
    "import numpy as np\n",
    "import pickle\n",
    "import re\n",
    "\n",
    "from keras.preprocessing.sequence import pad_sequences\n",
    "from keras.preprocessing.text import Tokenizer"
   ]
  },
  {
   "cell_type": "code",
   "execution_count": 2,
   "id": "6df286a0-a8c6-4127-8773-4161d1f69ab0",
   "metadata": {},
   "outputs": [
    {
     "name": "stdout",
     "output_type": "stream",
     "text": [
      "WARNING:tensorflow:Error in loading the saved optimizer state. As a result, your model is starting with a freshly initialized optimizer.\n",
      "Model: \"sequential_12\"\n",
      "_________________________________________________________________\n",
      "Layer (type)                 Output Shape              Param #   \n",
      "=================================================================\n",
      "embedding_12 (Embedding)     (None, 606, 32)           369536    \n",
      "_________________________________________________________________\n",
      "conv1d_22 (Conv1D)           (None, 606, 32)           8224      \n",
      "_________________________________________________________________\n",
      "max_pooling1d_23 (MaxPooling (None, 303, 32)           0         \n",
      "_________________________________________________________________\n",
      "conv1d_23 (Conv1D)           (None, 303, 64)           16448     \n",
      "_________________________________________________________________\n",
      "max_pooling1d_24 (MaxPooling (None, 151, 64)           0         \n",
      "_________________________________________________________________\n",
      "conv1d_24 (Conv1D)           (None, 151, 128)          65664     \n",
      "_________________________________________________________________\n",
      "max_pooling1d_25 (MaxPooling (None, 75, 128)           0         \n",
      "_________________________________________________________________\n",
      "lstm_12 (LSTM)               (None, 75)                61200     \n",
      "_________________________________________________________________\n",
      "dense_12 (Dense)             (None, 5)                 380       \n",
      "=================================================================\n",
      "Total params: 521,452\n",
      "Trainable params: 521,452\n",
      "Non-trainable params: 0\n",
      "_________________________________________________________________\n"
     ]
    }
   ],
   "source": [
    "# Load the model\n",
    "loaded_model = tf.keras.models.load_model('SentimentCLSTM.h5')\n",
    "loaded_model.summary()"
   ]
  },
  {
   "cell_type": "code",
   "execution_count": 3,
   "id": "251f163f",
   "metadata": {},
   "outputs": [],
   "source": [
    "# loading tokenizer\n",
    "with open('tokenizer.pickle', 'rb') as handle:\n",
    "    tk = pickle.load(handle)\n",
    "text_labels=[1,2,3,4,5]    "
   ]
  },
  {
   "cell_type": "code",
   "execution_count": 4,
   "id": "d4452a48-001f-4e4d-a8d4-9cefecec6209",
   "metadata": {},
   "outputs": [],
   "source": [
    "# Preprocessing\n",
    "def preproc(intext):\n",
    "    intextp=re.sub(\"[^0-9A-Za-z ]\", \"\" , intext)\n",
    "    return intextp.lower()  "
   ]
  },
  {
   "cell_type": "code",
   "execution_count": 5,
   "id": "9b90705b-e805-4a11-b7d0-dce43ba8be4b",
   "metadata": {},
   "outputs": [],
   "source": [
    "# Prediction function\n",
    "def predict(text_input):\n",
    "    word_Arr = []\n",
    "    word_Arr.append(text_input)\n",
    "      \n",
    "    word_f1 = tk.texts_to_sequences(word_Arr)\n",
    "    word_f2 = np.asarray(word_f1)\n",
    "    word_final = pad_sequences(word_f2,  padding='post',maxlen=606)\n",
    "    #print(word_final)\n",
    "    prediction = loaded_model.predict(np.array(word_final))\n",
    "    #print(prediction)\n",
    "    predicted_label = text_labels[np.argmax(prediction[0])]\n",
    "    print(\"Rating\")\n",
    "    print(predicted_label)"
   ]
  },
  {
   "cell_type": "code",
   "execution_count": 10,
   "id": "9a7ae1fd",
   "metadata": {},
   "outputs": [
    {
     "name": "stdout",
     "output_type": "stream",
     "text": [
      "Enter a review for analysis: he is not that great\n",
      "Rating\n",
      "4\n"
     ]
    }
   ],
   "source": [
    "text_input = str(input(\"Enter a review for analysis: \"))\n",
    "\n",
    "clean_text = preproc(text_input)\n",
    "predict(clean_text)   "
   ]
  },
  {
   "cell_type": "code",
   "execution_count": null,
   "id": "cacc402f-cf84-425d-88ec-93f7189f2323",
   "metadata": {},
   "outputs": [],
   "source": []
  }
 ],
 "metadata": {
  "kernelspec": {
   "display_name": "Python 3",
   "language": "python",
   "name": "python3"
  },
  "language_info": {
   "codemirror_mode": {
    "name": "ipython",
    "version": 3
   },
   "file_extension": ".py",
   "mimetype": "text/x-python",
   "name": "python",
   "nbconvert_exporter": "python",
   "pygments_lexer": "ipython3",
   "version": "3.8.8"
  }
 },
 "nbformat": 4,
 "nbformat_minor": 5
}
