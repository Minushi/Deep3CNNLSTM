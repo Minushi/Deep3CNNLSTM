{
 "cells": [
  {
   "cell_type": "code",
   "execution_count": 16,
   "id": "c60d60e1",
   "metadata": {},
   "outputs": [],
   "source": [
    "import matplotlib.pyplot as plt\n",
    "import os\n",
    "import re\n",
    "import shutil\n",
    "import string\n",
    "import tensorflow as tf\n",
    "import numpy as np\n",
    "import pandas as pd \n",
    "import nltk\n",
    "import enchant\n",
    "import itertools\n",
    "import pickle\n",
    "\n",
    "from nltk.corpus import stopwords\n",
    "from sklearn.model_selection import train_test_split\n",
    "from keras.preprocessing.text import Tokenizer\n",
    "from keras.preprocessing import sequence\n",
    "from keras.preprocessing.sequence import pad_sequences\n",
    "from sklearn.preprocessing import LabelEncoder\n",
    "from keras.utils.np_utils import to_categorical\n",
    "from keras.models import Sequential\n",
    "from keras.layers.embeddings import Embedding\n",
    "from keras.layers import LSTM,Dropout,Flatten\n",
    "from keras.layers import Dense,Conv1D,MaxPooling1D\n",
    "from keras_sequential_ascii import keras2ascii\n",
    "from prettytable import PrettyTable\n",
    "from keras import metrics\n",
    "from sklearn.metrics import confusion_matrix"
   ]
  },
  {
   "cell_type": "code",
   "execution_count": 17,
   "id": "791735a0",
   "metadata": {},
   "outputs": [
    {
     "name": "stdout",
     "output_type": "stream",
     "text": [
      "docreview\\train.csv\n",
      "docreview\\test.csv\n"
     ]
    }
   ],
   "source": [
    "# Load train and test dataset\n",
    "dataset_dir = os.path.join('docreview')\n",
    "datasettr = os.path.join(dataset_dir, 'train.csv')\n",
    "datasetts = os.path.join(dataset_dir, 'test.csv')\n",
    "print(datasettr)\n",
    "print(datasetts)"
   ]
  },
  {
   "cell_type": "code",
   "execution_count": 18,
   "id": "f433c65f",
   "metadata": {},
   "outputs": [
    {
     "name": "stdout",
     "output_type": "stream",
     "text": [
      "Training dataset\n",
      "                                                  Review  Rating\n",
      "0      It was a very excellent first appointment. Ran...       5\n",
      "1      I liked Dr. Satsky's bedside manner however  h...       3\n",
      "2              knowledgeable and not lazy  great doctor!       5\n",
      "3      Always a pleasant visit with Dr. Maclennan. Sh...       5\n",
      "4      I've been seeing Dr.Minkowitz for years and ha...       5\n",
      "...                                                  ...     ...\n",
      "60542  Excellent visit. Very friendly  competent phys...       5\n",
      "60543  The absolute best doctor I have been to. She l...       5\n",
      "60544  Dr. Pate and her staff were excellent! All wer...       5\n",
      "60545  This place was amazing. It turns out that I cl...       5\n",
      "60546  I don't have much experience with doctors in m...       5\n",
      "\n",
      "[60547 rows x 2 columns]\n",
      "Training dataset after cleaning\n",
      "                                                  Review  Rating\n",
      "0      it was a very excellent first appointment ran ...       5\n",
      "1      i liked dr satskys bedside manner however  her...       3\n",
      "2               knowledgeable and not lazy  great doctor       5\n",
      "3      always a pleasant visit with dr maclennan she ...       5\n",
      "4      ive been seeing drminkowitz for years and have...       5\n",
      "...                                                  ...     ...\n",
      "60542  excellent visit very friendly  competent physi...       5\n",
      "60543  the absolute best doctor i have been to she li...       5\n",
      "60544  dr pate and her staff were excellent all were ...       5\n",
      "60545  this place was amazing it turns out that i cli...       5\n",
      "60546  i dont have much experience with doctors in my...       5\n",
      "\n",
      "[60547 rows x 2 columns]\n"
     ]
    }
   ],
   "source": [
    "df = pd.read_csv(datasettr)\n",
    "print('Training dataset')\n",
    "print(df)\n",
    "\n",
    "#removing null values\n",
    "df.dropna(subset=['Review'], inplace=True)\n",
    "df.dropna(subset=['Rating'], inplace=True)\n",
    "\n",
    "#removing punctuation\n",
    "df['Review']=df['Review'].str.replace('[^\\w\\s]','',regex=True)\n",
    "\n",
    "#convert to lowercase\n",
    "df['Review'] = df['Review'].str.lower()\n",
    "\n",
    "#Removing blank values after preprocessing\n",
    "df.drop(df.index[df['Review'] == ''], inplace = True)\n",
    "\n",
    "print('Training dataset after cleaning')\n",
    "print(df)\n",
    "df = df[['Review', 'Rating']]\n",
    "df=df.astype(str)"
   ]
  },
  {
   "cell_type": "code",
   "execution_count": 19,
   "id": "eabaae46",
   "metadata": {},
   "outputs": [
    {
     "name": "stdout",
     "output_type": "stream",
     "text": [
      "Testing dataset\n",
      "                                                  Review  Rating\n",
      "0                            very professional  thorough       5\n",
      "1                                      awesome as usual        5\n",
      "2                            overall  the visit was ok         4\n",
      "3      so lovely  personable  kind  attentive i was b...       5\n",
      "4                           very informative and helpful       5\n",
      "...                                                  ...     ...\n",
      "52738  he was greatvery nice and knowledgeable glad t...       5\n",
      "52739  it was great he made me feel right at home gre...       5\n",
      "52740  dr raffinan was thorough and attentive as alwa...       5\n",
      "52741  really fantastic doctor excellent facility and...       5\n",
      "52742  her bedside manner was great and her staff is ...       5\n",
      "\n",
      "[52738 rows x 2 columns]\n"
     ]
    }
   ],
   "source": [
    "dfts = pd.read_csv(datasetts)\n",
    "#removing null values\n",
    "dfts.dropna(subset=['Review'], inplace=True)\n",
    "dfts.dropna(subset=['Rating'], inplace=True)\n",
    "#removing punctuation\n",
    "dfts['Review']=dfts['Review'].str.replace('[^\\w\\s]','',regex=True)\n",
    "#convert to lowercase\n",
    "dfts['Review'] = dfts['Review'].str.lower()\n",
    "#Removing blank values after preprocessing\n",
    "dfts.drop(dfts.index[dfts['Review'] == ''], inplace = True)\n",
    "print('Testing dataset')\n",
    "print(dfts)\n",
    "dfts = dfts[['Review', 'Rating']]\n",
    "dfts=dfts.astype(str)"
   ]
  },
  {
   "cell_type": "code",
   "execution_count": 20,
   "id": "60879805",
   "metadata": {},
   "outputs": [
    {
     "name": "stdout",
     "output_type": "stream",
     "text": [
      "# Train data samples: 60547\n",
      "# Test data samples: 52738\n"
     ]
    }
   ],
   "source": [
    "X_train, y_train = df.Review, df.Rating\n",
    "X_test, y_test = dfts.Review, dfts.Rating\n",
    "print('# Train data samples:', X_train.shape[0])\n",
    "print('# Test data samples:', X_test.shape[0])\n",
    "assert X_train.shape[0] == y_train.shape[0]\n",
    "assert X_test.shape[0] == y_test.shape[0]"
   ]
  },
  {
   "cell_type": "code",
   "execution_count": 21,
   "id": "5076501a",
   "metadata": {},
   "outputs": [
    {
     "name": "stdout",
     "output_type": "stream",
     "text": [
      "Training Rating shapes\n",
      "5 shape= 49447\n",
      "4 shape= 5335\n",
      "3 shape= 1723\n",
      "2 shape= 2123\n",
      "1 shape= 1919\n"
     ]
    },
    {
     "data": {
      "image/png": "[encoded data removed]",
      "text/plain": [
       "<Figure size 432x288 with 1 Axes>"
      ]
     },
     "metadata": {
      "needs_background": "light"
     },
     "output_type": "display_data"
    },
    {
     "data": {
      "image/png": "[encoded data removed]",
      "text/plain": [
       "<Figure size 432x288 with 1 Axes>"
      ]
     },
     "metadata": {},
     "output_type": "display_data"
    }
   ],
   "source": [
    "print('Training Rating shapes')\n",
    "print ('5 shape=',df[df.Rating == '5'].shape[0])\n",
    "print ('4 shape=',df[df.Rating == '4'].shape[0])\n",
    "print ('3 shape=',df[df.Rating == '3'].shape[0])\n",
    "print ('2 shape=',df[df.Rating == '2'].shape[0])\n",
    "print ('1 shape=',df[df.Rating == '1'].shape[0])\n",
    "\n",
    "ax = df['Rating'].value_counts(sort=True).plot(kind='barh')\n",
    "ax.set_xlabel(\"Number of Samples in training Set\")\n",
    "ax.set_ylabel(\"Label\")\n",
    "\n",
    "dfx = [df[df.Rating == '5'].shape[0],df[df.Rating == '4'].shape[0],df[df.Rating == '3'].shape[0],df[df.Rating == '2'].shape[0],df[df.Rating == '1'].shape[0]]\n",
    "labels = ['5', '4', '3', '2', '1']\n",
    "figtr, axptr = plt.subplots()\n",
    "axptr.pie(dfx, autopct=\"%.1f%%\",labels = labels)\n",
    "axptr.set_title('Percentage')\n",
    "plt.show()"
   ]
  },
  {
   "cell_type": "code",
   "execution_count": 22,
   "id": "e8613574",
   "metadata": {},
   "outputs": [
    {
     "name": "stdout",
     "output_type": "stream",
     "text": [
      "Rating shapes\n",
      "5 shape= 43354\n",
      "4 shape= 4799\n",
      "3 shape= 1574\n",
      "2 shape= 1457\n",
      "1 shape= 1554\n"
     ]
    },
    {
     "data": {
      "image/png": "[encoded data removed]",
      "text/plain": [
       "<Figure size 432x288 with 1 Axes>"
      ]
     },
     "metadata": {
      "needs_background": "light"
     },
     "output_type": "display_data"
    },
    {
     "data": {
      "image/png": "[encoded data removed]",
      "text/plain": [
       "<Figure size 432x288 with 1 Axes>"
      ]
     },
     "metadata": {},
     "output_type": "display_data"
    }
   ],
   "source": [
    "print('Rating shapes')\n",
    "print ('5 shape=',dfts[dfts.Rating == '5'].shape[0])\n",
    "print ('4 shape=',dfts[dfts.Rating == '4'].shape[0])\n",
    "print ('3 shape=',dfts[dfts.Rating == '3'].shape[0])\n",
    "print ('2 shape=',dfts[dfts.Rating == '2'].shape[0])\n",
    "print ('1 shape=',dfts[dfts.Rating == '1'].shape[0])\n",
    "\n",
    "axt = dfts['Rating'].value_counts(sort=True).plot(kind='barh')\n",
    "axt.set_xlabel(\"Number of Samples in test Set\")\n",
    "axt.set_ylabel(\"Label\")\n",
    "\n",
    "dftsx = [dfts[dfts.Rating == '5'].shape[0],dfts[dfts.Rating == '4'].shape[0],dfts[dfts.Rating == '3'].shape[0],dfts[dfts.Rating == '2'].shape[0],dfts[dfts.Rating == '1'].shape[0]]\n",
    "\n",
    "figts, axpts = plt.subplots()\n",
    "axpts.pie(dftsx, autopct=\"%.1f%%\",labels = labels)\n",
    "axpts.set_title('Percentage')\n",
    "plt.show()"
   ]
  },
  {
   "cell_type": "code",
   "execution_count": 23,
   "id": "a4e82c31",
   "metadata": {},
   "outputs": [
    {
     "name": "stdout",
     "output_type": "stream",
     "text": [
      "Maximum review length\n",
      "606\n"
     ]
    }
   ],
   "source": [
    "# Tokenization and vectorization\n",
    "tk = Tokenizer()\n",
    "\n",
    "tk.fit_on_texts(X_train)\n",
    "word_index = tk.word_index\n",
    "word_counts=tk.word_counts\n",
    "\n",
    "max_review_length=max([len(s.split()) for s in X_train])\n",
    "print(\"Maximum review length\")\n",
    "print(max_review_length)\n",
    "\n",
    "# Saving tokenizer\n",
    "with open('tokenizer.pickle', 'wb') as handle:\n",
    "    pickle.dump(tk, handle, protocol=pickle.HIGHEST_PROTOCOL)\n"
   ]
  },
  {
   "cell_type": "code",
   "execution_count": 24,
   "id": "9d22c599",
   "metadata": {},
   "outputs": [
    {
     "name": "stdout",
     "output_type": "stream",
     "text": [
      "Found 11547 unique tokens.\n",
      "11548\n"
     ]
    }
   ],
   "source": [
    "print('Found %s unique tokens.' % len(word_index))\n",
    "vocab_size = len(word_index) + 1\n",
    "print(vocab_size)"
   ]
  },
  {
   "cell_type": "code",
   "execution_count": 25,
   "id": "3702c83a",
   "metadata": {},
   "outputs": [
    {
     "name": "stdout",
     "output_type": "stream",
     "text": [
      "[72, 6, 133, 40, 18, 9, 1143, 14, 10, 202, 1, 134]\n",
      "always a pleasant visit with dr maclennan she is informative and caring\n"
     ]
    }
   ],
   "source": [
    "# Sequencing\n",
    "X_train_seq = tk.texts_to_sequences(X_train)\n",
    "X_test_seq = tk.texts_to_sequences(X_test)\n",
    "\n",
    "print(X_train_seq[3])\n",
    "\n",
    "reconstructed_text = tk.sequences_to_texts(X_train_seq)\n",
    "print(reconstructed_text[3])"
   ]
  },
  {
   "cell_type": "code",
   "execution_count": 26,
   "id": "9485b11f",
   "metadata": {},
   "outputs": [
    {
     "name": "stdout",
     "output_type": "stream",
     "text": [
      "[  31    5    6    7   65   73   55  997    6 2263 2975   16  201    1\n",
      "  391    4  160    7  257    0    0    0    0    0    0    0    0    0\n",
      "    0    0    0    0    0    0    0    0    0    0    0    0    0    0\n",
      "    0    0    0    0    0    0    0    0    0    0    0    0    0    0\n",
      "    0    0    0    0    0    0    0    0    0    0    0    0    0    0\n",
      "    0    0    0    0    0    0    0    0    0    0    0    0    0    0\n",
      "    0    0    0    0    0    0    0    0    0    0    0    0    0    0\n",
      "    0    0    0    0    0    0    0    0    0    0    0    0    0    0\n",
      "    0    0    0    0    0    0    0    0    0    0    0    0    0    0\n",
      "    0    0    0    0    0    0    0    0    0    0    0    0    0    0\n",
      "    0    0    0    0    0    0    0    0    0    0    0    0    0    0\n",
      "    0    0    0    0    0    0    0    0    0    0    0    0    0    0\n",
      "    0    0    0    0    0    0    0    0    0    0    0    0    0    0\n",
      "    0    0    0    0    0    0    0    0    0    0    0    0    0    0\n",
      "    0    0    0    0    0    0    0    0    0    0    0    0    0    0\n",
      "    0    0    0    0    0    0    0    0    0    0    0    0    0    0\n",
      "    0    0    0    0    0    0    0    0    0    0    0    0    0    0\n",
      "    0    0    0    0    0    0    0    0    0    0    0    0    0    0\n",
      "    0    0    0    0    0    0    0    0    0    0    0    0    0    0\n",
      "    0    0    0    0    0    0    0    0    0    0    0    0    0    0\n",
      "    0    0    0    0    0    0    0    0    0    0    0    0    0    0\n",
      "    0    0    0    0    0    0    0    0    0    0    0    0    0    0\n",
      "    0    0    0    0    0    0    0    0    0    0    0    0    0    0\n",
      "    0    0    0    0    0    0    0    0    0    0    0    0    0    0\n",
      "    0    0    0    0    0    0    0    0    0    0    0    0    0    0\n",
      "    0    0    0    0    0    0    0    0    0    0    0    0    0    0\n",
      "    0    0    0    0    0    0    0    0    0    0    0    0    0    0\n",
      "    0    0    0    0    0    0    0    0    0    0    0    0    0    0\n",
      "    0    0    0    0    0    0    0    0    0    0    0    0    0    0\n",
      "    0    0    0    0    0    0    0    0    0    0    0    0    0    0\n",
      "    0    0    0    0    0    0    0    0    0    0    0    0    0    0\n",
      "    0    0    0    0    0    0    0    0    0    0    0    0    0    0\n",
      "    0    0    0    0    0    0    0    0    0    0    0    0    0    0\n",
      "    0    0    0    0    0    0    0    0    0    0    0    0    0    0\n",
      "    0    0    0    0    0    0    0    0    0    0    0    0    0    0\n",
      "    0    0    0    0    0    0    0    0    0    0    0    0    0    0\n",
      "    0    0    0    0    0    0    0    0    0    0    0    0    0    0\n",
      "    0    0    0    0    0    0    0    0    0    0    0    0    0    0\n",
      "    0    0    0    0    0    0    0    0    0    0    0    0    0    0\n",
      "    0    0    0    0    0    0    0    0    0    0    0    0    0    0\n",
      "    0    0    0    0    0    0    0    0    0    0    0    0    0    0\n",
      "    0    0    0    0    0    0    0    0    0    0    0    0    0    0\n",
      "    0    0    0    0    0    0    0    0    0    0    0    0    0    0\n",
      "    0    0    0    0]\n"
     ]
    }
   ],
   "source": [
    "# truncate and pad input sequences\n",
    "X_train_trunc = pad_sequences(X_train_seq,  padding='post',maxlen=max_review_length)\n",
    "X_test_trunc = pad_sequences(X_test_seq,  padding='post',maxlen=max_review_length)\n",
    "print(X_train_trunc[0])"
   ]
  },
  {
   "cell_type": "code",
   "execution_count": 27,
   "id": "2bf6a5e6",
   "metadata": {},
   "outputs": [
    {
     "name": "stdout",
     "output_type": "stream",
     "text": [
      "0        5\n",
      "1        5\n",
      "2        4\n",
      "3        5\n",
      "4        5\n",
      "        ..\n",
      "52738    5\n",
      "52739    5\n",
      "52740    5\n",
      "52741    5\n",
      "52742    5\n",
      "Name: Rating, Length: 52738, dtype: object\n",
      "[[0. 0. 0. 0. 1.]\n",
      " [0. 0. 0. 0. 1.]\n",
      " [0. 0. 0. 1. 0.]\n",
      " ...\n",
      " [0. 0. 0. 0. 1.]\n",
      " [0. 0. 0. 0. 1.]\n",
      " [0. 0. 0. 0. 1.]]\n"
     ]
    }
   ],
   "source": [
    "# Label encoding\n",
    "le = LabelEncoder()\n",
    "y_train_le = le.fit_transform(y_train)\n",
    "y_test_le = le.transform(y_test)\n",
    "y_train_oh = to_categorical(y_train_le)\n",
    "y_test_oh = to_categorical(y_test_le)\n",
    "print(y_test)\n",
    "print(y_test_oh)"
   ]
  },
  {
   "cell_type": "code",
   "execution_count": 28,
   "id": "83ca6f29",
   "metadata": {},
   "outputs": [
    {
     "name": "stdout",
     "output_type": "stream",
     "text": [
      "[[   7 1336  134 ...    0    0    0]\n",
      " [  11   10   25 ...    0    0    0]\n",
      " [  26    6  124 ...    0    0    0]\n",
      " ...\n",
      " [   2    5   28 ...    0    0    0]\n",
      " [  31    5    6 ...    0    0    0]\n",
      " [  50   36  320 ...    0    0    0]]\n"
     ]
    }
   ],
   "source": [
    "# Splitting training and validation dataset\n",
    "X_train_emb, X_valid_emb, y_train_emb, y_valid_emb = train_test_split(X_train_trunc, y_train_oh, test_size=0.3, random_state=42,shuffle=True)\n",
    "print(X_train_emb)"
   ]
  },
  {
   "cell_type": "code",
   "execution_count": 29,
   "id": "6cf76a0b",
   "metadata": {},
   "outputs": [
    {
     "name": "stdout",
     "output_type": "stream",
     "text": [
      "Model: \"sequential_2\"\n",
      "_________________________________________________________________\n",
      "Layer (type)                 Output Shape              Param #   \n",
      "=================================================================\n",
      "embedding_2 (Embedding)      (None, 606, 32)           369536    \n",
      "_________________________________________________________________\n",
      "conv1d_6 (Conv1D)            (None, 606, 32)           8224      \n",
      "_________________________________________________________________\n",
      "max_pooling1d_6 (MaxPooling1 (None, 303, 32)           0         \n",
      "_________________________________________________________________\n",
      "conv1d_7 (Conv1D)            (None, 303, 64)           16448     \n",
      "_________________________________________________________________\n",
      "max_pooling1d_7 (MaxPooling1 (None, 151, 64)           0         \n",
      "_________________________________________________________________\n",
      "conv1d_8 (Conv1D)            (None, 151, 128)          65664     \n",
      "_________________________________________________________________\n",
      "max_pooling1d_8 (MaxPooling1 (None, 75, 128)           0         \n",
      "_________________________________________________________________\n",
      "lstm_2 (LSTM)                (None, 75)                61200     \n",
      "_________________________________________________________________\n",
      "dense_2 (Dense)              (None, 5)                 380       \n",
      "=================================================================\n",
      "Total params: 521,452\n",
      "Trainable params: 521,452\n",
      "Non-trainable params: 0\n",
      "_________________________________________________________________\n",
      "None\n"
     ]
    }
   ],
   "source": [
    "# create the model with CNN and LSTM\n",
    "embedding_vecor_length = 32\n",
    "model = Sequential()\n",
    "model.add(Embedding(vocab_size, embedding_vecor_length, input_length=max_review_length))\n",
    "model.add(Conv1D(filters=32, kernel_size=8, padding='same', activation='relu'))\n",
    "model.add(MaxPooling1D(pool_size=2))\n",
    "model.add(Conv1D(filters=64, kernel_size=8, padding='same', activation='relu'))\n",
    "model.add(MaxPooling1D(pool_size=2))\n",
    "model.add(Conv1D(filters=128, kernel_size=8, padding='same', activation='relu'))\n",
    "model.add(MaxPooling1D(pool_size=2))\n",
    "model.add(LSTM(75, dropout=0.2, recurrent_dropout=0.2))\n",
    "model.add(Dense(5, activation='softmax'))\n",
    "model.compile(loss='categorical_crossentropy', optimizer='adam', metrics=['accuracy'])\n",
    "print(model.summary())"
   ]
  },
  {
   "cell_type": "code",
   "execution_count": 41,
   "id": "f7e20b6f",
   "metadata": {
    "scrolled": true
   },
   "outputs": [],
   "source": [
    "#keras2ascii(model)"
   ]
  },
  {
   "cell_type": "code",
   "execution_count": 59,
   "id": "2b32a038",
   "metadata": {},
   "outputs": [],
   "source": [
    "#checkpoint_path = \"t8/cp.ckpt\"\n",
    "checkpoint_dir = os.path.dirname(checkpoint_path)\n",
    "\n",
    "# Create a callback that saves the model's weights\n",
    "cp_callback = tf.keras.callbacks.ModelCheckpoint(filepath=checkpoint_path,\n",
    "                                                 save_weights_only=True,\n",
    "                                                 monitor='val_accuracy',\n",
    "                                                 mode='max',\n",
    "                                                 save_best_only=True,\n",
    "                                                 verbose=1)"
   ]
  },
  {
   "cell_type": "code",
   "execution_count": null,
   "id": "0a0e65a8-febf-45ca-bb09-5423f08bc354",
   "metadata": {},
   "outputs": [],
   "source": [
    "#train the model\n",
    "history = model.fit(X_train_emb\n",
    "                       , y_train_emb\n",
    "                    ,validation_data=(X_valid_emb, y_valid_emb)\n",
    "                       , epochs=15\n",
    "                       , batch_size=64\n",
    "                       , verbose=1\n",
    "                   ,callbacks =[cp_callback]\n",
    "                   ,shuffle=True)\n",
    "print(history.params)\n",
    "\n",
    "# list all data in history\n",
    "print(history.history.keys())"
   ]
  },
  {
   "cell_type": "code",
   "execution_count": 81,
   "id": "1bc53bfc",
   "metadata": {},
   "outputs": [],
   "source": [
    "#model.save('SentimentCLSTM.h5')"
   ]
  },
  {
   "cell_type": "code",
   "execution_count": 69,
   "id": "1bbe98ba",
   "metadata": {},
   "outputs": [
    {
     "data": {
      "image/png": "[encoded data removed]",
      "text/plain": [
       "<Figure size 432x288 with 1 Axes>"
      ]
     },
     "metadata": {
      "needs_background": "light"
     },
     "output_type": "display_data"
    },
    {
     "data": {
      "text/plain": [
       "0.9713734984397888"
      ]
     },
     "execution_count": 69,
     "metadata": {},
     "output_type": "execute_result"
    }
   ],
   "source": [
    "# summarize history for accuracy\n",
    "plt.plot(history.history['accuracy'])\n",
    "plt.plot(history.history['val_accuracy'])\n",
    "plt.title('Model Accuracy')\n",
    "plt.ylabel('Accuracy')\n",
    "plt.xlabel('Epoch')\n",
    "plt.legend(['Training', 'Validation'], loc='upper left')\n",
    "plt.show()\n",
    "history.history['accuracy'][-1]\n",
    "history.history['val_accuracy'][-1]\n"
   ]
  },
  {
   "cell_type": "code",
   "execution_count": 70,
   "id": "97cba450",
   "metadata": {},
   "outputs": [
    {
     "data": {
      "image/png": "[encoded data removed]",
      "text/plain": [
       "<Figure size 432x288 with 1 Axes>"
      ]
     },
     "metadata": {
      "needs_background": "light"
     },
     "output_type": "display_data"
    }
   ],
   "source": [
    "# summarize history for loss\n",
    "plt.plot(history.history['loss'])\n",
    "plt.plot(history.history['val_loss'])\n",
    "plt.title('Model Loss')\n",
    "plt.ylabel('Loss')\n",
    "plt.xlabel('Epoch')\n",
    "plt.legend(['Training', 'Validation'], loc='upper left')\n",
    "plt.show()"
   ]
  },
  {
   "cell_type": "code",
   "execution_count": 30,
   "id": "6a14970a",
   "metadata": {},
   "outputs": [
    {
     "name": "stdout",
     "output_type": "stream",
     "text": [
      "207/207 [==============================] - 49s 225ms/step - loss: 0.2304 - accuracy: 0.9517s - loss: 0.2303 - \n",
      "Accuracy: 95.15%\n"
     ]
    }
   ],
   "source": [
    "# Final evaluation of the model\n",
    "embedding_vecor_length = 32\n",
    "model = Sequential()\n",
    "model.add(Embedding(vocab_size, embedding_vecor_length, input_length=max_review_length))\n",
    "model.add(Conv1D(filters=32, kernel_size=8, padding='same', activation='relu'))\n",
    "model.add(MaxPooling1D(pool_size=2))\n",
    "model.add(Conv1D(filters=64, kernel_size=8, padding='same', activation='relu'))\n",
    "model.add(MaxPooling1D(pool_size=2))\n",
    "model.add(Conv1D(filters=128, kernel_size=8, padding='same', activation='relu'))\n",
    "model.add(MaxPooling1D(pool_size=2))\n",
    "model.add(LSTM(75, dropout=0.2, recurrent_dropout=0.2))\n",
    "model.add(Dense(5, activation='softmax'))\n",
    "model.compile(loss='categorical_crossentropy', optimizer='adam', metrics=['accuracy'])\n",
    "model.load_weights(\"t8/cp.ckpt\")\n",
    "scores = model.evaluate(X_test_trunc, y_test_oh, verbose=1,batch_size = 256)\n",
    "print(\"Accuracy: %.2f%%\" % (scores[1]*100))"
   ]
  },
  {
   "cell_type": "code",
   "execution_count": 52,
   "id": "c901b854-7219-449b-9925-d31e5e63e2e9",
   "metadata": {},
   "outputs": [],
   "source": [
    "#model.get_weights()"
   ]
  },
  {
   "cell_type": "code",
   "execution_count": 22,
   "id": "0e97aee5",
   "metadata": {
    "scrolled": true
   },
   "outputs": [
    {
     "name": "stdout",
     "output_type": "stream",
     "text": [
      "[4 4 3 ... 4 4 4]\n",
      "[4 4 3 ... 4 4 4]\n",
      "Confusion matrix, without normalization\n"
     ]
    },
    {
     "data": {
      "image/png": "[encoded data removed]",
      "text/plain": [
       "<Figure size 504x432 with 2 Axes>"
      ]
     },
     "metadata": {
      "needs_background": "light"
     },
     "output_type": "display_data"
    }
   ],
   "source": [
    "# Function for confusion matrix\n",
    "classes=[1,2,3,4,5]\n",
    "def plot_confusion_matrix(cm, classes,\n",
    "                          normalize=False,\n",
    "                          title='Confusion matrix',\n",
    "                          cmap=plt.cm.Blues):\n",
    "    \"\"\"\n",
    "    This function prints and plots the confusion matrix.\n",
    "    \"\"\"\n",
    "    if normalize:\n",
    "        cm = cm.astype('float') / cm.sum(axis=1)[:, np.newaxis]\n",
    "        print(\"Normalized confusion matrix\")\n",
    "    else:\n",
    "        print('Confusion matrix, without normalization')\n",
    "\n",
    "    plt.imshow(cm, interpolation='nearest', cmap=cmap)\n",
    "    plt.title(title)\n",
    "    plt.colorbar()\n",
    "    tick_marks = np.arange(len(classes))\n",
    "    plt.xticks(tick_marks, classes, rotation=90)\n",
    "    plt.yticks(tick_marks, classes)\n",
    "\n",
    "    fmt = '.2f' if normalize else 'd'\n",
    "    thresh = cm.max() / 2.\n",
    "    for i, j in itertools.product(range(cm.shape[0]), range(cm.shape[1])):\n",
    "        plt.text(j, i, format(cm[i, j], fmt),\n",
    "                 horizontalalignment=\"center\",\n",
    "                 color=\"white\" if cm[i, j] > thresh else \"black\")\n",
    "\n",
    "    plt.tight_layout()\n",
    "    plt.ylabel('True label')\n",
    "    plt.xlabel('Predicted label')\n",
    "\n",
    "\n",
    "y_pred = model.predict(X_test_trunc);\n",
    "cnf_matrix = confusion_matrix(np.argmax(y_test_oh, axis=1), np.argmax(y_pred, axis=1))\n",
    "print(np.argmax(y_test_oh, axis=1))\n",
    "print(np.argmax(y_pred, axis=1))\n",
    "\n",
    "# Plot normalized confusion matrix\n",
    "fig = plt.figure()\n",
    "fig.set_size_inches(7, 6, forward=True)\n",
    "\n",
    "plot_confusion_matrix(cnf_matrix, classes, normalize=False,\n",
    "                      title='Confusion matrix')"
   ]
  },
  {
   "cell_type": "code",
   "execution_count": 73,
   "id": "3309431b",
   "metadata": {},
   "outputs": [
    {
     "name": "stdout",
     "output_type": "stream",
     "text": [
      "              precision    recall  f1-score   support\n",
      "\n",
      "           1       0.97      0.81      0.88      1554\n",
      "           2       0.80      0.88      0.84      1457\n",
      "           3       0.78      0.78      0.78      1574\n",
      "           4       0.80      0.81      0.81      4799\n",
      "           5       0.98      0.98      0.98     43354\n",
      "\n",
      "    accuracy                           0.95     52738\n",
      "   macro avg       0.86      0.85      0.86     52738\n",
      "weighted avg       0.95      0.95      0.95     52738\n",
      "\n"
     ]
    }
   ],
   "source": [
    "# Print evaluation metrics\n",
    "from sklearn import metrics\n",
    "print(metrics.classification_report(np.argmax(y_test_oh, axis=1), np.argmax(y_pred, axis=1), target_names=('1','2','3','4','5')))"
   ]
  },
  {
   "cell_type": "code",
   "execution_count": 31,
   "id": "411f7aa6",
   "metadata": {},
   "outputs": [
    {
     "name": "stdout",
     "output_type": "stream",
     "text": [
      "Review:  very professional  thorough\n",
      "Actual label: 5\n",
      "Predicted label: 5\n",
      "\n",
      "Review:  awesome as usual \n",
      "Actual label: 5\n",
      "Predicted label: 5\n",
      "\n",
      "Review:  overall  the visit was ok  \n",
      "Actual label: 4\n",
      "Predicted label: 4\n",
      "\n",
      "Review:  so lovely  personable  kind  attentive i was blown away at her attention to detail and thoroughness so excited to have found her\n",
      "Actual label: 5\n",
      "Predicted label: 5\n",
      "\n",
      "Review:  very informative and helpful\n",
      "Actual label: 5\n",
      "Predicted label: 5\n",
      "\n",
      "Review:  amazing doctor that really cares and takes time with patients \n",
      "Actual label: 5\n",
      "Predicted label: 5\n",
      "\n",
      "Review:  he was very nice and friendly doctor only thing that was not good was when i got the office they said he was a specialist so my copay will be 40 i had bad cough and did a research for primary care doctor and found his name on zocdoc i told the receptionist that i didnt need to see a kidney specialist that was his speciality at the end  they said i just needed to pay regular copay i told them that they need to correct their listing information on doczoc but the doctor was friendly and no waiting \n",
      "Actual label: 4\n",
      "Predicted label: 4\n",
      "\n",
      "Review:  always enjoy coming here\n",
      "Actual label: 5\n",
      "Predicted label: 5\n",
      "\n",
      "Review:  leslie miller is a really great doctor she made me feel really at ease she is down to earth  knowledgeable  and makes you feel comfortable with her bedside manner i am so happy to have found a doctor so close to work that was such a positive experience \n",
      "Actual label: 5\n",
      "Predicted label: 5\n",
      "\n",
      "Review:  absolutely fantastic professional  timely  and very nice i felt like i was in good hands and that he is concerned with me will come back and recommend\n",
      "Actual label: 5\n",
      "Predicted label: 5\n",
      "\n",
      "Review:  dr carron is very professional and nice her team was also very welcoming and kind  i highly recommend dr carron\n",
      "Actual label: 5\n",
      "Predicted label: 5\n",
      "\n",
      "Review:  was terrific she is very smart and her medical knowledge is topnotch\n",
      "Actual label: 5\n",
      "Predicted label: 5\n",
      "\n",
      "Review:  dr  alstein is very down to earth and really gives you the feeling that he is interested in your well being  he gives good counsel and forwards you a printed briefing of everything done during the visit  i feel like an imbecile going to these horrible doctors over the years\n",
      "Actual label: 5\n",
      "Predicted label: 5\n",
      "\n",
      "Review:  i liked him \n",
      "Actual label: 4\n",
      "Predicted label: 4\n",
      "\n",
      "Review:  dr stroud was very professional and has great bedside manners she answered all my questions and made me feel very comfortable i will continue to use her as my primary care physician\n",
      "Actual label: 5\n",
      "Predicted label: 5\n",
      "\n",
      "Review:  the doctor was friendly but the office visit itself was very odd  the wait was extremely long  and the doctor kept shouting to the receptionist through the door instead of calling her about the the heat  about sending in the next patient  etc  the person who mentioned the equipment being old was correct  after a long wait  i was sent into this one room with boxes of files under the table my weight was taken on an old bathroom scale  it didnt feel like a medical office boxes of files on the floor  dirty floorwalls  after another long wait  i was sent to the doctors office for my exam he asked many questions and talked a lot none of it about why i was there  the exam itself was less than a minute  he prescribed medication and that was it   he may be fine for others  but considering how many great doctors exist in nyc  i would not go back to this one\n",
      "Actual label: 3\n",
      "Predicted label: 3\n",
      "\n",
      "Review:  the doctor was excellent  made me feel comfortable  paperwork was not tedious at all\n",
      "Actual label: 5\n",
      "Predicted label: 5\n",
      "\n",
      "Review:  first time patient was extremely communicative and listened to everything i had to say or was concerned with very happy and will continue to use him as primary\n",
      "Actual label: 5\n",
      "Predicted label: 5\n",
      "\n",
      "Review:  good doctor  i was happy with the service and her knowledge as a physician im sure ill return in the future  and im glad i chose this doctor and location\n",
      "Actual label: 5\n",
      "Predicted label: 5\n",
      "\n",
      "Review:  dr delson is a straight talker  hes very direct with his opinion on all matters  he takes his time getting to know you and trying to understand all that is occurring around health and wellness  he does not rush you out of the office \n",
      "Actual label: 5\n",
      "Predicted label: 5\n",
      "\n",
      "Review:  dr satsky was great it took a while to have blood taken  but everyone i came into contact with was great\n",
      "Actual label: 4\n",
      "Predicted label: 4\n",
      "\n",
      "Review:  very professional and easy to talk too fairly thorough as well\n",
      "Actual label: 5\n",
      "Predicted label: 5\n",
      "\n",
      "Review:  excellent as always\n",
      "Actual label: 5\n",
      "Predicted label: 5\n",
      "\n",
      "Review:  great bedside manner  extremely attentive and very professional\n",
      "Actual label: 5\n",
      "Predicted label: 5\n",
      "\n",
      "Review:  dr julian was so professional and really took her time with me which is something new  i may have waited 45 minutes to see her but i understand why because she doesnt rush her patients  if actually listening to me is the price for waiting a little bit ill definitely take it\n",
      "Actual label: 5\n",
      "Predicted label: 5\n",
      "\n",
      "Review:  this doctor is honestly incredible he saw me quickly and took time to understand my symptoms and explain in detail what was going on i highly recommend him \n",
      "Actual label: 5\n",
      "Predicted label: 5\n",
      "\n",
      "Review:  dr e is so great whenever i am having problems with my health he is empathetic and listens closely in order to diagnose my problem the pa jessica is also super friendly and so sweet i love going to dr es office  \n",
      "Actual label: 5\n",
      "Predicted label: 5\n",
      "\n",
      "Review:  dr shustarovich was very kind  patient and informative she seemed interested and caring about my well being and health i look forward to a growing relationship with her \n",
      "Actual label: 5\n",
      "Predicted label: 5\n",
      "\n",
      "Review:  absolutely amazing doctor he was to the point  had great advice and a very personable manner i tore ligaments in my calf and cant take part in a highly anticipated tournament  but even with those news  i had a good laugh highly recommended\n",
      "Actual label: 5\n",
      "Predicted label: 5\n",
      "\n",
      "Review:  the guy is a character  so hes easy to get along with and is patient and thorough in his approach to find out what your medical issues are and seems to be well liked and respected\n",
      "Actual label: 5\n",
      "Predicted label: 5\n",
      "\n",
      "Review:  nononsense  efficient  and quick \n",
      "Actual label: 5\n",
      "Predicted label: 5\n",
      "\n",
      "Review:  dr delson was fantastic\n",
      "Actual label: 5\n",
      "Predicted label: 5\n",
      "\n",
      "Review:  very pleasant  quick and calm\n",
      "Actual label: 4\n",
      "Predicted label: 4\n",
      "\n",
      "Review:  very personable  knowledgeable and friendly guy \n",
      "Actual label: 5\n",
      "Predicted label: 5\n",
      "\n",
      "Review:  dr rahimian was very focused  as well as friendly very organized and has a good team relationship with his staff\n",
      "Actual label: 5\n",
      "Predicted label: 5\n",
      "\n",
      "Review:  quick  and thorough\n",
      "Actual label: 4\n",
      "Predicted label: 5\n",
      "\n",
      "Review:  a very conveniently located office right by the 8 ave stop on the l dr paolino was incredibly friendly and downtoearth i never felt like i was being lectured during my annual checkup and given some very useful information that i have never received before \n",
      "Actual label: 5\n",
      "Predicted label: 5\n",
      "\n",
      "Review:  dr balacco took his time with me i didnt feel rushed like with other doctors he was thorough and explained everything to me the nurses were super nice as well always a plus would definitely recommend  \n",
      "Actual label: 5\n",
      "Predicted label: 5\n",
      "\n",
      "Review:  refused to do blood work or send me to a specialist  when i thought i had fibromyalgia days later i had a severe attack  was diagnosed by another doctor who ran multiple tests and actually examined me she  also dismissed my concern over a mole that had developed out of nowhere absolutely awful she does not take her patients seriously\n",
      "Actual label: 1\n",
      "Predicted label: 2\n",
      "\n",
      "Review:  fantastic\n",
      "Actual label: 5\n",
      "Predicted label: 5\n",
      "\n",
      "Review:  very easy to talk to  direct but soft spoken  attentive and thourough\n",
      "Actual label: 5\n",
      "Predicted label: 5\n",
      "\n",
      "Review:  had a good experience seen on time   very thorough   excellent bed side manor \n",
      "Actual label: 5\n",
      "Predicted label: 5\n",
      "\n",
      "Review:  very clean office  friendly and efficient office staff and very knowledgable of group insurance admin dr galstian was very personable and professional and conducted a very thorough physical examination she solicited questions and made sure i understood what she was saying i will definitely continue with dr galstian as my pcp\n",
      "Actual label: 5\n",
      "Predicted label: 5\n",
      "\n",
      "Review:  dr crespin was kind  thorough  and really seems to care about his patients he is best doctor i have found since moving to the city  and i would recommend him to anyone \n",
      "Actual label: 5\n",
      "Predicted label: 5\n",
      "\n",
      "Review:  he was awesome the wait time was unacceptable\n",
      "Actual label: 5\n",
      "Predicted label: 4\n",
      "\n",
      "Review:  my visit was excellent great dr couldnt ask for better treat ment\n",
      "Actual label: 5\n",
      "Predicted label: 5\n",
      "\n",
      "Review:  i was seen right away dr tenenbaum is a really nice man good visit with a good doctor\n",
      "Actual label: 4\n",
      "Predicted label: 4\n",
      "\n",
      "Review:  i was very happy with my visit she took her time and was very professional and informative\n",
      "Actual label: 5\n",
      "Predicted label: 5\n",
      "\n",
      "Review:  super quick 15 minutes of my ill visit rushrushrush \n",
      "Actual label: 3\n",
      "Predicted label: 3\n",
      "\n",
      "Review:  i went on a thursday and am still waiting for test results 2 week slater their equipment is old and outdated  after 4 assistant and later the doctor attempting to get their ecg machine to work  40 mins later doctor gave up and asked me to get the test done in another facility that would fax over the results to him   its a very sad looking facility  nobody cares about your time doctor is flabbergasted shuttling between patients every 2 mins   if you are getting a urine test  be prepared to walk with a bottle to the restroom with an array of patients and bystanders sitting and watching as you go in and come out no  you dont leave the bottle inside the restroom in a designated area  you walk back all the way to hand it over to your assistant there is also no privacy in the examination rooms everytime door opens those waiting outside see you and the doctor and assistants open and close the door a lot worse still  other doctorspatients enter without knocking and then apologize to only go and try find another room   i am never returning here\n",
      "Actual label: 1\n",
      "Predicted label: 1\n",
      "\n",
      "Review:  his staff was friendly and prompt dr brownlow was a true professional  i would not mind going back again  good magazine selection also\n",
      "Actual label: 5\n",
      "Predicted label: 5\n",
      "\n",
      "Review:  dr allen is really awesome she is thorough and kind and listens really well i love that she is a pcp who does gyn exams  makes it so easy going to 1 place i wish i had known this sooner \n",
      "Actual label: 5\n",
      "Predicted label: 5\n",
      "\n",
      "Review:  been going here to see dr clevinger for over 30 years and have never been disappointed  he takes whatever time you need and he truly appreciates his patience and provides excellent care  i highly recommend him\n",
      "Actual label: 5\n",
      "Predicted label: 5\n",
      "\n",
      "Review:  great bedside manner and very smart i would definitely recommend him\n",
      "Actual label: 5\n",
      "Predicted label: 5\n",
      "\n",
      "Review:  all good\n",
      "Actual label: 5\n",
      "Predicted label: 5\n",
      "\n",
      "Review:  went here as a new patient and was very impressed with dr ostrowski  \n",
      "Actual label: 5\n",
      "Predicted label: 5\n",
      "\n",
      "Review:  always a pleasure quick and helpful she truly does care for her patients she spent nearly an hour my last appt trying to find me a good specialist how many doctors can you say will do that for you\n",
      "Actual label: 5\n",
      "Predicted label: 5\n",
      "\n",
      "Review:  doctor herbert is the best\n",
      "Actual label: 5\n",
      "Predicted label: 5\n",
      "\n",
      "Review:  good doctor but i told him that motrin did not help my injury and he proscribed it to me anyway weird\n",
      "Actual label: 4\n",
      "Predicted label: 4\n",
      "\n",
      "Review:  doctor was knowledgeable  thorough  professional yet friendly  office staff as well was competent  efficient and pleasant  everything i am looking for in a doctor  and i plan to consider her my new gp\n",
      "Actual label: 5\n",
      "Predicted label: 5\n",
      "\n",
      "Review:  very professional  and personable\n",
      "Actual label: 5\n",
      "Predicted label: 5\n",
      "\n",
      "Review:  great docotor\n",
      "Actual label: 5\n",
      "Predicted label: 5\n",
      "\n",
      "Review:  finally found a great gp\n",
      "Actual label: 5\n",
      "Predicted label: 5\n",
      "\n",
      "Review:  longer than expected wait time was due to the office technician not coming into work that day  md himself drew bloods and processed lab samples\n",
      "Actual label: 5\n",
      "Predicted label: 5\n",
      "\n",
      "Review:  very nice doctor who spends time listening to you and really tries to figure out the root of the issue very small waiting time  which ive found to be abnormal in nyc also  the ease of scheduling an appointment is great would highly recommend the dr and this office \n",
      "Actual label: 5\n",
      "Predicted label: 5\n",
      "\n",
      "Review:  i have finally found a doctor in nyc i love every other experience with physicians here has been awful the doctors seem in a hurry to get me out of the office and dont take time to really talk to me  and the office staff have been disinterested at best and outright rude at worse so i was blown away by the care i received at dr chans office the office staff and nurse were amazing and very friendly  and dr chan took lots of time to sit with me and go over everything in my chart and address any and all concerns and she was so kind and personable i felt incredibly comfortable i will absolutely be back and hope to keep her as my pcp for a very long time \n",
      "Actual label: 5\n",
      "Predicted label: 5\n",
      "\n",
      "Review:  very prompt  professional  and great bedside manner excellent followup\n",
      "Actual label: 5\n",
      "Predicted label: 5\n",
      "\n",
      "Review:  hes very attentive and easy to talk to\n",
      "Actual label: 5\n",
      "Predicted label: 5\n",
      "\n",
      "Review:  great\n",
      "Actual label: 5\n",
      "Predicted label: 5\n",
      "\n",
      "Review:  dr delson is knowledgable and caring\n",
      "Actual label: 5\n",
      "Predicted label: 5\n",
      "\n",
      "Review:  wonderful doctor   kind and personable  \n",
      "Actual label: 5\n",
      "Predicted label: 5\n",
      "\n",
      "Review:  great experience  the doctor was the up most precessional \n",
      "Actual label: 5\n",
      "Predicted label: 5\n",
      "\n",
      "Review:  dr allen is a professional health care provider  who is very caring she want her the very best for her patients\n",
      "Actual label: 5\n",
      "Predicted label: 5\n",
      "\n",
      "Review:  very professional  seen right away \n",
      "Actual label: 5\n",
      "Predicted label: 5\n",
      "\n",
      "Review:  i told her previously that i work at 3 she didnt come until 220 and the office was supposed to open at 2pm her hours are not convenient at all and i will never schedule anything with her again\n",
      "Actual label: 1\n",
      "Predicted label: 1\n",
      "\n",
      "Review:  he is a great doctor  patient with his patients  thorough  and really listens to your health concerns and symptoms highly recommend\n",
      "Actual label: 5\n",
      "Predicted label: 5\n",
      "\n",
      "Review:  excellent experience \n",
      "Actual label: 5\n",
      "Predicted label: 5\n",
      "\n",
      "Review:  she is thorough and very professional\n",
      "Actual label: 5\n",
      "Predicted label: 5\n",
      "\n",
      "Review:  dr hago patiently sat with me and thoroughly reviewed a set of complicated symptoms  taking his time to come to an educated diagnosis friendly  smart and compassionate \n",
      "Actual label: 5\n",
      "Predicted label: 5\n",
      "\n",
      "Review:  great experience once i got in with the assistant and doctor  only complaint was the bit of a wait time  but it was a comfortable office so it wasnt a huge deal\n",
      "Actual label: 5\n",
      "Predicted label: 5\n",
      "\n",
      "WARNING:tensorflow:Unresolved object in checkpoint: (root).optimizer.iter\n",
      "WARNING:tensorflow:Unresolved object in checkpoint: (root).optimizer.beta_1\n",
      "WARNING:tensorflow:Unresolved object in checkpoint: (root).optimizer.beta_2\n",
      "WARNING:tensorflow:Unresolved object in checkpoint: (root).optimizer.decay\n",
      "WARNING:tensorflow:Unresolved object in checkpoint: (root).optimizer.learning_rate\n",
      "WARNING:tensorflow:A checkpoint was restored (e.g. tf.train.Checkpoint.restore or tf.keras.Model.load_weights) but not all checkpointed values were used. See above for specific issues. Use expect_partial() on the load status object, e.g. tf.train.Checkpoint.restore(...).expect_partial(), to silence these warnings, or use assert_consumed() to make the check explicit. See https://www.tensorflow.org/guide/checkpoint#loading_mechanics for details.\n",
      "Review:  very friendly staff and dr hago is super thorough and provides great education and understanding of how to be proactive with your health i highly recommend him \n",
      "Actual label: 5\n",
      "Predicted label: 5\n",
      "\n",
      "Review:  just awsome highly recommended \n",
      "Actual label: 5\n",
      "Predicted label: 5\n",
      "\n",
      "Review:  really friendly and helpful \n",
      "Actual label: 5\n",
      "Predicted label: 5\n",
      "\n",
      "Review:  i went in for an annual physical with a few additional questions about a few things that have come up over the last few months she took the time to listen and answer my questions thoroughly the nurse who took my vitals and blood argie  i think his name was was also fantastic at his job and very personable as well\n",
      "Actual label: 5\n",
      "Predicted label: 5\n",
      "\n",
      "Review:  very friendly staff and dr hago is super thorough and provides great education and understanding of how to be proactive with your health i highly recommend him \n",
      "Actual label: 5\n",
      "Predicted label: 5\n",
      "\n",
      "Review:  he was very thorough in his evaluation and went through all my options that could have been considered\n",
      "Actual label: 5\n",
      "Predicted label: 5\n",
      "\n",
      "Review:  my visit was very informative he took really good care of me\n",
      "Actual label: 5\n",
      "Predicted label: 5\n",
      "\n",
      "Review:  dr palatucci is fantastic glad i found him\n",
      "Actual label: 5\n",
      "Predicted label: 5\n",
      "\n",
      "Review:  dr suden has been my primary care doc for about 5 years i definitely recommend her \n",
      "Actual label: 5\n",
      "Predicted label: 5\n",
      "\n",
      "Review:  dr ramani was great you could tell he had a good read on my conditions and was quick to diagnose my illness i would recommend dr ramani to anybody who considers setting up an appointment with him\n",
      "Actual label: 5\n",
      "Predicted label: 5\n",
      "\n",
      "Review:  the doctor was very pleasant and well mannered however  i cant say the same about one of the receptionist who had multi colored nails and an outrageous hairstyle my overall rating would have been higher if i was dealing with someone with professionalism and actually knew what they are doing the doctor was good but  the receptionist was terrible\n",
      "Actual label: 3\n",
      "Predicted label: 3\n",
      "\n",
      "Review:  very happy with my service\n",
      "Actual label: 4\n",
      "Predicted label: 5\n",
      "\n",
      "Review:  awesome friendly and informative\n",
      "Actual label: 5\n",
      "Predicted label: 5\n",
      "\n",
      "Review:  clean office  prompt attention  professional manner had a great experience \n",
      "Actual label: 5\n",
      "Predicted label: 5\n",
      "\n",
      "Review:  dr felixs concern over and review of my medical history was much more thorough than any other doctor ive seen since i was a child  although the appointment itself was long and probably caused a longer wait for many patients after me  i really appreciate that dr felix took the time to understand my multiple conditions and treat them each  which gives evidence to the fact that he actually cares about his patients  if you experience a longer wait time  i implore you to consider that a patient before likely had a complex medical history  which dr felix took the time to fully review  on top of all that  he has a great sense of humor and is very personable  i highly recommend dr felix\n",
      "Actual label: 5\n",
      "Predicted label: 5\n",
      "\n",
      "Review:  she and all her staff were very attentive  helpful and friendly they explained all of the results from my annual checkup i highly recommend their office and already have i will be sticking with her for a long time\n",
      "Actual label: 5\n",
      "Predicted label: 5\n",
      "\n",
      "Review:  dr kutznetsova seems like a good doctor but her receptionists completely screwed up my insurance which isnt hard  i even gave them my insurance card with phone number there but they didnt use that number and called some other number who then told them i was responsible for deductible i paid for it only to find out after calling my insurance that they falsely charged me so frustrating i think ill go somewhere else next\n",
      "Actual label: 4\n",
      "Predicted label: 4\n",
      "\n",
      "Review:  very attentive and objective will certainly return\n",
      "Actual label: 5\n",
      "Predicted label: 5\n",
      "\n",
      "Review:  my visit with dr thorton was very pleasant and thorough her staff was quick and knowledgeable i really enjoyed the ipad check in dr thorton had a great bedside manner and was very detailed i highly recommend dr thorton \n",
      "Actual label: 5\n",
      "Predicted label: 5\n",
      "\n",
      "Review:  i really appreciated how she took her time during my appointment and asked me a lot of questions i immediately felt extremely comfortable with her \n",
      "Actual label: 5\n",
      "Predicted label: 5\n",
      "\n"
     ]
    }
   ],
   "source": [
    "# View actual and predicted label\n",
    "text_labels = le.classes_\n",
    "for i in range(100):\n",
    "    prediction = model.predict(np.array([X_test_trunc[i]]))\n",
    "    predicted_label = text_labels[np.argmax(prediction[0])]\n",
    "    print('Review:  '+X_test.iloc[i])\n",
    "    print('Actual label: ' + y_test.iloc[i])\n",
    "    print(\"Predicted label: \" + predicted_label)\n",
    "    print('')"
   ]
  }
 ],
 "metadata": {
  "kernelspec": {
   "display_name": "Python 3",
   "language": "python",
   "name": "python3"
  },
  "language_info": {
   "codemirror_mode": {
    "name": "ipython",
    "version": 3
   },
   "file_extension": ".py",
   "mimetype": "text/x-python",
   "name": "python",
   "nbconvert_exporter": "python",
   "pygments_lexer": "ipython3",
   "version": "3.8.8"
  }
 },
 "nbformat": 4,
 "nbformat_minor": 5
}
